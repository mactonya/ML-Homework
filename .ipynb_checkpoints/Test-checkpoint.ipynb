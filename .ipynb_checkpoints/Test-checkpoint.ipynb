{
 "cells": [
  {
   "cell_type": "code",
   "execution_count": 234,
   "metadata": {},
   "outputs": [],
   "source": [
    "import ipywidgets as wgt\n",
    "import math\n",
    "import random\n",
    "\n",
    "def is_prime(x):\n",
    "    for i in range(2,math.ceil(math.sqrt(x))+1):\n",
    "        if (x % i) == 0:\n",
    "                return False\n",
    "    return True\n",
    "\n",
    "def get_prime(digits):\n",
    "    while True:\n",
    "        p = random.getrandbits(digits)\n",
    "        if is_prime(p) and p > 2:\n",
    "            return p\n",
    "\n",
    "def ext_euclid(a, b):\n",
    "     if b == 0:\n",
    "         return 1, 0, a\n",
    "     else:\n",
    "         x, y, q = ext_euclid(b, a % b) # q = gcd(a, b) = gcd(b, a%b)\n",
    "         x, y = y, (x - (a // b) * y)\n",
    "         return x, y, q\n",
    "\n",
    "\n",
    "def prepare_RSA(digits):\n",
    "    \n",
    "    # Take 2 primes\n",
    "    p = get_prime(digits)\n",
    "    q = get_prime(digits)\n",
    "    tolient_product = (p-1)*(q-1)\n",
    "\n",
    "    # Find a random int that is coprime w/ tolient_product (or in this case, a number between p and q will do it)\n",
    "    while True:\n",
    "        e = random.randint(2,tolient_product)\n",
    "        if ext_euclid(e,tolient_product)[2] == 1:\n",
    "            break;\n",
    "\n",
    "    # Find its modular multiplicative inverse using Extended Euclidean algorithm\n",
    "    l = ext_euclid(e, tolient_product)[1] % tolient_product\n",
    "    print(p,q,tolient_product,e,l)\n",
    "    return tolient_product, e, l"
   ]
  },
  {
   "cell_type": "code",
   "execution_count": 235,
   "metadata": {},
   "outputs": [
    {
     "name": "stdout",
     "output_type": "stream",
     "text": [
      "223 163 35964 6479 1868\n"
     ]
    },
    {
     "data": {
      "text/plain": [
       "(35964, 6479, 1868)"
      ]
     },
     "execution_count": 235,
     "metadata": {},
     "output_type": "execute_result"
    }
   ],
   "source": [
    "prepare_RSA(8)"
   ]
  },
  {
   "cell_type": "code",
   "execution_count": 238,
   "metadata": {},
   "outputs": [
    {
     "data": {
      "text/plain": [
       "(-10369, 1868, 1)"
      ]
     },
     "execution_count": 238,
     "metadata": {},
     "output_type": "execute_result"
    }
   ],
   "source": [
    "ext_euclid(6479,35964)"
   ]
  },
  {
   "cell_type": "code",
   "execution_count": 202,
   "metadata": {},
   "outputs": [
    {
     "data": {
      "text/plain": [
       "1"
      ]
     },
     "execution_count": 202,
     "metadata": {},
     "output_type": "execute_result"
    }
   ],
   "source": [
    "179*(-101)+904*20"
   ]
  },
  {
   "cell_type": "code",
   "execution_count": null,
   "metadata": {},
   "outputs": [],
   "source": []
  }
 ],
 "metadata": {
  "file_extension": ".py",
  "kernelspec": {
   "display_name": "Python 3",
   "language": "python",
   "name": "python3"
  },
  "language_info": {
   "codemirror_mode": {
    "name": "ipython",
    "version": 3
   },
   "file_extension": ".py",
   "mimetype": "text/x-python",
   "name": "python",
   "nbconvert_exporter": "python",
   "pygments_lexer": "ipython3",
   "version": "3.7.2"
  },
  "mimetype": "text/x-python",
  "name": "python",
  "npconvert_exporter": "python",
  "pygments_lexer": "ipython3",
  "version": 3
 },
 "nbformat": 4,
 "nbformat_minor": 2
}
