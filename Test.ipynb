{
 "cells": [
  {
   "cell_type": "code",
   "execution_count": 17,
   "metadata": {},
   "outputs": [
    {
     "data": {
      "application/vnd.jupyter.widget-view+json": {
       "model_id": "0c8ab75688d142608680adc35cd73a36",
       "version_major": 2,
       "version_minor": 0
      },
      "text/plain": [
       "interactive(children=(Text(value='', description='strs'), Output()), _dom_classes=('widget-interact',))"
      ]
     },
     "metadata": {},
     "output_type": "display_data"
    },
    {
     "data": {
      "text/plain": [
       "<function __main__.example(strs)>"
      ]
     },
     "execution_count": 17,
     "metadata": {},
     "output_type": "execute_result"
    }
   ],
   "source": [
    "import ipywidgets as wgt\n",
    "import math\n",
    "import random\n",
    "\n",
    "def is_prime(x):\n",
    "    for i in range(2,math.ceil(math.sqrt(x))+1):\n",
    "        if (x % i) == 0:\n",
    "                return False\n",
    "    return True\n",
    "\n",
    "def get_prime(digits):\n",
    "    while True:\n",
    "        p = random.getrandbits(digits)\n",
    "        if is_prime(p) and p > 2:\n",
    "            return p\n",
    "\n",
    "def ext_euclid(a, b):\n",
    "     if b == 0:\n",
    "         return 1, 0, a\n",
    "     else:\n",
    "         x, y, q = ext_euclid(b, a % b) # q = gcd(a, b) = gcd(b, a%b)\n",
    "         x, y = y, (x - (a // b) * y)\n",
    "         return x, y, q\n",
    "\n",
    "\n",
    "def prepare_RSA(digits):\n",
    "    \n",
    "    # Take 2 primes\n",
    "    p = get_prime(digits)\n",
    "    q = get_prime(digits)\n",
    "    N = p*q\n",
    "    tolient_product = (p-1)*(q-1)\n",
    "\n",
    "    # Find a random int that is coprime w/ tolient_product\n",
    "    while True:\n",
    "        e = random.randint(2,tolient_product)\n",
    "        if ext_euclid(e, tolient_product)[2] == 1:\n",
    "            break;\n",
    "\n",
    "    # Find its modular multiplicative inverse using Extended Euclidean algorithm\n",
    "    l = ext_euclid(e, tolient_product)[0] \n",
    "    if l < 0:\n",
    "        l += tolient_product;\n",
    "    return N, e, l\n",
    "\n",
    "\n",
    "[N,e,l] = prepare_RSA(8)\n",
    "\n",
    "\n",
    "\n",
    "def example(strs):\n",
    "    print(\"This example uses 8 bit RSA\")\n",
    "    print(\"You entered \" + strs)\n",
    "    \n",
    "\n",
    "    origin = []\n",
    "    for chrs in strs:\n",
    "        origin.append((ord(chrs)))\n",
    "    print(\"The corresponding ASCII code(s) is\", origin)\n",
    "\n",
    "    print(\"The public key is (\",N,\", \",e,\")\")\n",
    "\n",
    "    encode = []\n",
    "\n",
    "    for num in origin:\n",
    "        encode.append((num**e)%N)\n",
    "    print(\"The encoded message is\", encode)\n",
    "\n",
    "    print(\"The private key is (\",N,\", \",l,\")\")\n",
    "\n",
    "    decode = []\n",
    "\n",
    "    for num in encode:\n",
    "        decode.append((num**l)%N)\n",
    "\n",
    "    print(\"The decoded message is\", decode, \", that is,\")\n",
    "\n",
    "    \n",
    "    result = []\n",
    "    for ch in decode:\n",
    "        result.append(chr(int(ch)))\n",
    "        \n",
    "    print(result, \". Hooray!\")\n",
    "        \n",
    "wgt.interact(example, strs = '')"
   ]
  },
  {
   "cell_type": "code",
   "execution_count": null,
   "metadata": {},
   "outputs": [],
   "source": []
  }
 ],
 "metadata": {
  "file_extension": ".py",
  "kernelspec": {
   "display_name": "Python 3",
   "language": "python",
   "name": "python3"
  },
  "language_info": {
   "codemirror_mode": {
    "name": "ipython",
    "version": 3
   },
   "file_extension": ".py",
   "mimetype": "text/x-python",
   "name": "python",
   "nbconvert_exporter": "python",
   "pygments_lexer": "ipython3",
   "version": "3.7.2"
  },
  "mimetype": "text/x-python",
  "name": "python",
  "npconvert_exporter": "python",
  "pygments_lexer": "ipython3",
  "version": 3
 },
 "nbformat": 4,
 "nbformat_minor": 2
}
