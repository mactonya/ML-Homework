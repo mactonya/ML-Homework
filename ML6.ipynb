{
 "cells": [
  {
   "cell_type": "code",
   "execution_count": 1,
   "metadata": {},
   "outputs": [],
   "source": [
    "%matplotlib inline\n",
    "import numpy as np\n",
    "import matplotlib.pyplot as plt\n",
    "import random"
   ]
  },
  {
   "cell_type": "code",
   "execution_count": 50,
   "metadata": {},
   "outputs": [],
   "source": [
    "def grad(start, f, df, tries, lr):\n",
    "    iters = np.zeros(tries+1)\n",
    "    x = start\n",
    "    iters[0] = start\n",
    "    for i in range(tries):\n",
    "        dx = df(iters[i])\n",
    "        x = x - lr * dx\n",
    "        iters[i+1] = x\n",
    "        plt.scatter(iters[i+1], f(iters[i+1]))\n",
    "    return iters"
   ]
  },
  {
   "cell_type": "code",
   "execution_count": 51,
   "metadata": {},
   "outputs": [],
   "source": [
    "def f(x):\n",
    "    return np.abs(x)**(1/2)\n",
    "def df(x):\n",
    "    return x / (2 * abs(x)**(3/2))"
   ]
  },
  {
   "cell_type": "markdown",
   "metadata": {},
   "source": [
    "$f = |x|^{1/2}, df = \\frac{x}{2|x|^{3/2}}$"
   ]
  },
  {
   "cell_type": "code",
   "execution_count": 52,
   "metadata": {},
   "outputs": [],
   "source": [
    "x = np.linspace(-0.1,0.1,1000)"
   ]
  },
  {
   "cell_type": "code",
   "execution_count": 54,
   "metadata": {},
   "outputs": [
    {
     "data": {
      "text/plain": [
       "array([-0.05      ,  0.0618034 , -0.03875858,  0.08822748,  0.00406121,\n",
       "       -0.38823338, -0.34811037, -0.30573812, -0.26052492, -0.21154531,\n",
       "       -0.15719045, -0.09413438, -0.01265159,  0.20961151,  0.15500651,\n",
       "        0.09150777,  0.00886383, -0.2566757 , -0.20733019, -0.15242559,\n",
       "       -0.08839152, -0.00430339,  0.37679275,  0.33606516,  0.29294024,\n",
       "        0.24674997,  0.19642176,  0.14001318,  0.07320101, -0.019201  ,\n",
       "        0.16121624,  0.09895244,  0.01947813, -0.15965109, -0.09708283,\n",
       "       -0.01684692,  0.17576348,  0.11613198,  0.04277118, -0.07811159,\n",
       "        0.0113388 , -0.22343868, -0.17055023, -0.11001421, -0.03464124,\n",
       "        0.09967956,  0.02049564, -0.15413049, -0.09045157, -0.00732651,\n",
       "        0.28474649,  0.23789636,  0.1866402 ,  0.12877234,  0.05910508,\n",
       "       -0.04372676,  0.07582785, -0.01495956,  0.18944032,  0.13200173,\n",
       "        0.06319194, -0.03625906,  0.09503096,  0.01393347, -0.19785895,\n",
       "       -0.14165561, -0.0752319 ,  0.0159144 , -0.18225881, -0.12369952,\n",
       "       -0.05261812,  0.05636829, -0.0489303 ,  0.06408859, -0.03466426,\n",
       "        0.09961193,  0.02040115, -0.15462893, -0.09105272, -0.00820253,\n",
       "        0.26783375,  0.21952705,  0.16616949,  0.1048407 ,  0.02763044,\n",
       "       -0.12276897, -0.05141868,  0.05883156, -0.04423905,  0.07462133,\n",
       "       -0.01689709,  0.17542716,  0.11573853,  0.04225314, -0.07936841,\n",
       "        0.00937092, -0.24888415, -0.19877219, -0.1426981 , -0.07651747,\n",
       "        0.0138599 ])"
      ]
     },
     "execution_count": 54,
     "metadata": {},
     "output_type": "execute_result"
    },
    {
     "data": {
      "image/png": "[encoded data removed]",
      "text/plain": [
       "<Figure size 432x288 with 1 Axes>"
      ]
     },
     "metadata": {
      "needs_background": "light"
     },
     "output_type": "display_data"
    }
   ],
   "source": [
    "plt.plot(x, f(x))\n",
    "grad(-0.05, f, df, 100, 0.05)"
   ]
  },
  {
   "cell_type": "markdown",
   "metadata": {},
   "source": [
    "Gradient descent might fail when a function has a cusp, or has a point that differential does not exist"
   ]
  },
  {
   "cell_type": "code",
   "execution_count": null,
   "metadata": {},
   "outputs": [],
   "source": []
  }
 ],
 "metadata": {
  "kernelspec": {
   "display_name": "Python 3",
   "language": "python",
   "name": "python3"
  },
  "language_info": {
   "codemirror_mode": {
    "name": "ipython",
    "version": 3
   },
   "file_extension": ".py",
   "mimetype": "text/x-python",
   "name": "python",
   "nbconvert_exporter": "python",
   "pygments_lexer": "ipython3",
   "version": "3.7.3"
  }
 },
 "nbformat": 4,
 "nbformat_minor": 2
}
